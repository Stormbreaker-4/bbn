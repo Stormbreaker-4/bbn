{
 "cells": [
  {
   "cell_type": "code",
   "execution_count": 15,
   "metadata": {},
   "outputs": [],
   "source": [
    "from pgmpy.models import BayesianNetwork;\n",
    "from pgmpy.factors.discrete.CPD import TabularCPD;"
   ]
  },
  {
   "cell_type": "code",
   "execution_count": 16,
   "metadata": {},
   "outputs": [
    {
     "name": "stdout",
     "output_type": "stream",
     "text": [
      "['Burglary', 'Alarm', 'Earthquake', 'Neighbour Call']\n",
      "True\n"
     ]
    }
   ],
   "source": [
    "graph = BayesianNetwork([('Burglary', 'Alarm'), ('Earthquake', 'Alarm'), ('Alarm', 'Neighbour Call')]);\n",
    "print(graph.nodes());\n",
    "print('Neighbour Call' in graph);"
   ]
  },
  {
   "cell_type": "code",
   "execution_count": 17,
   "metadata": {},
   "outputs": [
    {
     "name": "stdout",
     "output_type": "stream",
     "text": [
      "<daft.PGM object at 0x0000026EF7360740>\n"
     ]
    },
    {
     "data": {
      "image/png": "[encoded data removed]",
      "text/plain": [
       "<Figure size 212.598x212.598 with 1 Axes>"
      ]
     },
     "metadata": {},
     "output_type": "display_data"
    }
   ],
   "source": [
    "daft_graph = graph.to_daft();\n",
    "print(daft_graph);\n",
    "daft_graph.render();\n",
    "daft_graph.savefig('graph.png');"
   ]
  },
  {
   "cell_type": "code",
   "execution_count": 18,
   "metadata": {},
   "outputs": [
    {
     "name": "stdout",
     "output_type": "stream",
     "text": [
      "+-----------------+-------+\n",
      "| Burglary(True)  | 0.005 |\n",
      "+-----------------+-------+\n",
      "| Burglary(False) | 0.995 |\n",
      "+-----------------+-------+\n"
     ]
    }
   ],
   "source": [
    "b_cpd = TabularCPD('Burglary', 2, [[0.005], [0.995]], state_names={'Burglary': ['True', 'False']});\n",
    "print(b_cpd);"
   ]
  },
  {
   "cell_type": "code",
   "execution_count": 19,
   "metadata": {},
   "outputs": [
    {
     "name": "stdout",
     "output_type": "stream",
     "text": [
      "+-------------------+-------+\n",
      "| Earthquake(True)  | 0.002 |\n",
      "+-------------------+-------+\n",
      "| Earthquake(False) | 0.998 |\n",
      "+-------------------+-------+\n"
     ]
    }
   ],
   "source": [
    "e_cpd = TabularCPD('Earthquake', 2, [[0.002], [0.998]], state_names={'Earthquake': ['True', 'False']});\n",
    "print(e_cpd);"
   ]
  },
  {
   "cell_type": "code",
   "execution_count": 20,
   "metadata": {},
   "outputs": [
    {
     "name": "stdout",
     "output_type": "stream",
     "text": [
      "+--------------+------------------+-----+-------------------+\n",
      "| Burglary     | Burglary(True)   | ... | Burglary(False)   |\n",
      "+--------------+------------------+-----+-------------------+\n",
      "| Earthquake   | Earthquake(True) | ... | Earthquake(False) |\n",
      "+--------------+------------------+-----+-------------------+\n",
      "| Alarm(True)  | 0.99             | ... | 0.001             |\n",
      "+--------------+------------------+-----+-------------------+\n",
      "| Alarm(False) | 0.01             | ... | 0.999             |\n",
      "+--------------+------------------+-----+-------------------+\n"
     ]
    }
   ],
   "source": [
    "a_cpd = TabularCPD('Alarm', 2, [[0.99, 0.97, 0.8, 0.001], [0.01, 0.03, 0.2, .999]], evidence=['Burglary', 'Earthquake'], evidence_card=[2, 2], state_names={'Alarm': ['True', 'False'], 'Burglary': ['True', 'False'], 'Earthquake': ['True', 'False']});\n",
    "print(a_cpd);"
   ]
  },
  {
   "cell_type": "code",
   "execution_count": 21,
   "metadata": {},
   "outputs": [
    {
     "name": "stdout",
     "output_type": "stream",
     "text": [
      "+-----------------------+-------------+--------------+\n",
      "| Alarm                 | Alarm(True) | Alarm(False) |\n",
      "+-----------------------+-------------+--------------+\n",
      "| Neighbour Call(True)  | 0.98        | 0.005        |\n",
      "+-----------------------+-------------+--------------+\n",
      "| Neighbour Call(False) | 0.02        | 0.995        |\n",
      "+-----------------------+-------------+--------------+\n"
     ]
    }
   ],
   "source": [
    "n_cpd = TabularCPD('Neighbour Call', 2, [[0.98, 0.005], [0.02, 0.995]], evidence=['Alarm'], evidence_card=[2], state_names={'Neighbour Call': ['True', 'False'], 'Alarm': ['True', 'False']});\n",
    "print(n_cpd);"
   ]
  },
  {
   "cell_type": "code",
   "execution_count": 22,
   "metadata": {},
   "outputs": [
    {
     "name": "stdout",
     "output_type": "stream",
     "text": [
      "True\n"
     ]
    }
   ],
   "source": [
    "graph.add_cpds(b_cpd, e_cpd, a_cpd, n_cpd);\n",
    "print(graph.check_model());"
   ]
  }
 ],
 "metadata": {
  "kernelspec": {
   "display_name": "Python 3",
   "language": "python",
   "name": "python3"
  },
  "language_info": {
   "codemirror_mode": {
    "name": "ipython",
    "version": 3
   },
   "file_extension": ".py",
   "mimetype": "text/x-python",
   "name": "python",
   "nbconvert_exporter": "python",
   "pygments_lexer": "ipython3",
   "version": "3.12.1"
  }
 },
 "nbformat": 4,
 "nbformat_minor": 2
}
